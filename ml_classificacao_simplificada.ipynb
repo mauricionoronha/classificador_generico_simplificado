{
  "nbformat": 4,
  "nbformat_minor": 0,
  "metadata": {
    "colab": {
      "provenance": [],
      "toc_visible": true,
      "mount_file_id": "1RVrCAQGjg8_rEMiTzwpovgosBDN6NPCv",
      "authorship_tag": "ABX9TyN1/xNG5NmxYqMZP/sIoPXm",
      "include_colab_link": true
    },
    "kernelspec": {
      "name": "python3",
      "display_name": "Python 3"
    },
    "language_info": {
      "name": "python"
    }
  },
  "cells": [
    {
      "cell_type": "markdown",
      "metadata": {
        "id": "view-in-github",
        "colab_type": "text"
      },
      "source": [
        "<a href=\"https://colab.research.google.com/github/mauricionoronha/ml_classificacao_simplificada/blob/main/ml_classificacao_simplificada.ipynb\" target=\"_parent\"><img src=\"https://colab.research.google.com/assets/colab-badge.svg\" alt=\"Open In Colab\"/></a>"
      ]
    },
    {
      "cell_type": "markdown",
      "source": [
        "# ETAPA 1 : Pré-processamento dos dados:\n",
        "\n",
        "É o processo de limpar, transformar e preparar os dados brutos antes de serem alimentados para um modelo de aprendizado de máquina. \n",
        "\n",
        "É uma etapa crucial em qualquer projeto de machine learning, pois a qualidade dos dados usados para treinar um modelo tem um grande impacto no desempenho e na precisão do modelo.\n",
        "\n",
        "Considerado a etapa mais demorada e trabalhosa, mas neste projeto será otimizado em 10 passos. Basta preencher as informações necessárias e rodar a célula.\n"
      ],
      "metadata": {
        "id": "9egPmqojeq0r"
      }
    },
    {
      "cell_type": "markdown",
      "source": [
        "## 1/10 - Carregando a base de dados:"
      ],
      "metadata": {
        "id": "xyE9aoVFTMHD"
      }
    },
    {
      "cell_type": "code",
      "execution_count": null,
      "metadata": {
        "cellView": "form",
        "id": "yvd3YeQPXbRJ"
      },
      "outputs": [],
      "source": [
        "#@markdown ---\n",
        "\n",
        "import pandas as pd\n",
        "import numpy as np\n",
        "\n",
        "print('\u001b[1;32mCarregando dados...')\n",
        "# Criação dos campos de preenchimento usando #@param\n",
        "#@markdown Insira o endereço do arquivo abaixo e escolha o tipo correto de arquivo que deseja importar:\n",
        "endereco = \"/content/drive/MyDrive/MACHINE_LEARNNING/telecom_users.xlsx\" #@param {type:\"string\"}\n",
        "tipo_arquivo = \"excel\" #@param [\"csv\", \"excel\"]\n",
        "separador = \";\" #@param [\",\", \";\"]\n",
        "\n",
        "if tipo_arquivo == \"csv\":\n",
        "    dados = pd.read_csv( endereco, sep = separador)\n",
        "else:\n",
        "    dados = pd.read_excel(endereco)\n",
        "\n",
        "print('\u001b[1;32mPronto, verifique as 5 primeiras linhas do dataframe:')\n",
        "dados.head()\n",
        "\n"
      ]
    },
    {
      "cell_type": "markdown",
      "source": [
        "## 2/10 - Analisando atributos ( variáveis )"
      ],
      "metadata": {
        "id": "BaOitZZTTmsv"
      }
    },
    {
      "cell_type": "code",
      "source": [
        "#@markdown ---\n",
        "#@markdown Análise quantitativa em % e visualização gráfica por meio de um histograma.\n",
        "#@markdown \n",
        "#@markdown Informe o nome do atributo que deseja analisar:\n",
        "import plotly.express as px\n",
        "Nome_Atributo = \"MultiplasLinhas\" #@param {type:\"string\"}\n",
        "\n",
        "print('\u001b[1;32mCriando gráfico...')\n",
        "print(display(dados[Nome_Atributo].value_counts(normalize=True).map(\"{:.1%}\".format)));\n",
        "\n",
        "hist1 =  px.histogram (dados,  x = Nome_Atributo, nbins=60) \n",
        "hist1.update_layout(width=800,height=500,title_text='Distribuição {}'.format(Nome_Atributo)) \n",
        "hist1.show()\n",
        "\n",
        "dados2 = dados.copy()\n",
        "print('\u001b[1;32mPronto')"
      ],
      "metadata": {
        "cellView": "form",
        "id": "xD2rHyH9r68a"
      },
      "execution_count": null,
      "outputs": []
    },
    {
      "cell_type": "markdown",
      "source": [
        "## 3/10 - Verificando e corrigindo valores nulos ( NAN )"
      ],
      "metadata": {
        "id": "NDCTSjhgT_Tu"
      }
    },
    {
      "cell_type": "code",
      "source": [
        "#@markdown ---\n",
        "print('\u001b[1;32mVerificando dados...')\n",
        "#@markdown Rode essa célula para identificar valores nulos\n",
        "print('\\033[0m' + str(dados2.isnull().sum()))\n",
        "print('\\033[1;32mPronto')"
      ],
      "metadata": {
        "id": "u4HyanG9xU3q",
        "cellView": "form"
      },
      "execution_count": null,
      "outputs": []
    },
    {
      "cell_type": "code",
      "source": [
        "#@markdown ### Se encontado valores nulos, como proceder?\n",
        "\n",
        "#@markdown 1 - Excluir Dados Nulos\n",
        "\n",
        "#@markdown 2 - Substituir Dados Nulos Pela Média\n",
        "\n",
        "Escolha = 1 #@param [\"1\", \"2\"] {type:\"raw\"}\n",
        "\n",
        "#@markdown  Informe o nome do Atributo com dados nulos:\n",
        "\n",
        "Nome_Atrib_Dados_Nulos = \"Dependentes\" #@param {type:\"string\"}\n",
        "\n",
        "\n",
        "if Escolha == 1:\n",
        "    dados2.dropna(inplace=True)\n",
        "else:\n",
        "    dados2[Nome_Atrib_Dados_Nulos].fillna(dados2[Nome_Atrib_Dados_Nulos].mean(), inplace=True)\n",
        "\n",
        "print('\u001b[1;32mDados corrigidos!')\n",
        "\n"
      ],
      "metadata": {
        "cellView": "form",
        "id": "zfn3RNBhx8GR"
      },
      "execution_count": null,
      "outputs": []
    },
    {
      "cell_type": "markdown",
      "source": [
        "## 4/10 - Analisando os tipos de atributos"
      ],
      "metadata": {
        "id": "qhFw2eu8UL2n"
      }
    },
    {
      "cell_type": "code",
      "source": [
        "#@markdown ---\n",
        "#@markdown Verifique os tipos de atributos, que podem ser:\n",
        "#@markdown * object: strings\n",
        "#@markdown * int64: inteiros\n",
        "#@markdown * float64: reais\n",
        "#@markdown * complex: complexos\n",
        "print('\u001b[1;32mAnalisando dados...')\n",
        "print('\\033[0m' + str(dados2.dtypes))\n",
        "print('\u001b[1;32mPronto')"
      ],
      "metadata": {
        "cellView": "form",
        "id": "5P83WgrUTbhw"
      },
      "execution_count": null,
      "outputs": []
    },
    {
      "cell_type": "code",
      "source": [
        "#@markdown ### Será necessário alterar o tipo de um atributo especifico?\n",
        "\n",
        "#@markdown * Desconsidere se não for necessário corrigir o tipo do atributo\n",
        "print('\u001b[1;32mCorrigindo dados...')\n",
        "#@markdown Se for necessário fazer a correção, informe o nome do atributo:\n",
        "Nome_Atributo = \"\" #@param {type:\"string\"}\n",
        "#@markdown Escolha agora, entre as opções abaixo, para qual tipo deseja alterar:\n",
        "Tipo_Atributo = \"float64\" #@param [\"object\", \"int64\", \"float64\"]\n",
        "\n",
        "if Tipo_Atributo == \"object\":\n",
        "    dados2[Nome_Atributo] = dados2[Nome_Atributo].astype(str)\n",
        "elif Tipo_Atributo == \"int64\":\n",
        "    dados2[Nome_Atributo] = dados2[Nome_Atributo].apply(np.int64)\n",
        "else:\n",
        "    dados2[Nome_Atributo] = dados2[Nome_Atributo].apply(np.float64)\n",
        "\n",
        "print(dados2[Nome_Atributo].dtype)\n",
        "\n",
        "#@markdown * OBS.: Só é possivel converter uma STRING (object) em INT ou FLOAT quando essa string é composta apenas por números, logo não é possivel converter palavras em int ou float\n",
        "print('\u001b[1;32mPronto')\n"
      ],
      "metadata": {
        "cellView": "form",
        "id": "TgB94TvCU9ue"
      },
      "execution_count": null,
      "outputs": []
    },
    {
      "cell_type": "markdown",
      "source": [
        "## 5/10 - Excluindo atributos desnecessários"
      ],
      "metadata": {
        "id": "-eqwHOX7UYNf"
      }
    },
    {
      "cell_type": "code",
      "source": [
        "#@markdown ---\n",
        "#@markdown Informe o nome do atributo que deseja retirar do dataframe:\n",
        "Nome_Atributo = \"IDCliente\" #@param {type:\"string\"}\n",
        "dados2 = dados2.drop(Nome_Atributo, axis=1)\n",
        "print('\\033[1;32mAtributo excluído!')\n",
        "print('\\033[1;32mSegue amostra do dataframe atualizado:')\n",
        "dados2.head()"
      ],
      "metadata": {
        "cellView": "form",
        "id": "z-GPY4L3vgqb"
      },
      "execution_count": null,
      "outputs": []
    },
    {
      "cell_type": "markdown",
      "source": [
        "## 6/10 - Relação quantitativa entre todos os atributos e um atributo chave:"
      ],
      "metadata": {
        "id": "PfgY51n4UqNh"
      }
    },
    {
      "cell_type": "code",
      "source": [
        "#@markdown ---\n",
        "#@markdown Veja através de histograma como o atributo chave é distribuído nos demais atributos do dataframe.\n",
        "print('\u001b[1;32mCriando gráficos...')\n",
        "#@markdown Informe o nome do atributo chave: \n",
        "import plotly.express as px\n",
        "\n",
        "Atributo_Chave = \"\" #@param{type: 'string'}\n",
        "\n",
        "for coluna in dados2:      \n",
        "        fig = px.histogram(dados2, x=coluna,nbins=60, color=Atributo_Chave)\n",
        "        fig.show()\n",
        "\n",
        "print('\u001b[1;32mPronto')"
      ],
      "metadata": {
        "cellView": "form",
        "id": "PBSyUs3cv394"
      },
      "execution_count": null,
      "outputs": []
    },
    {
      "cell_type": "markdown",
      "source": [
        "## 7/10 - Análise Estatística Descritiva"
      ],
      "metadata": {
        "id": "qynKFN-CUzLo"
      }
    },
    {
      "cell_type": "code",
      "source": [
        "#@markdown ---\n",
        "\n",
        "#@markdown Tenha acesso aos seguintes perâmetros :\n",
        "\n",
        "#@markdown * count: número de valores não nulos na coluna\n",
        "#@markdown * mean: média dos valores na coluna\n",
        "#@markdown * std: desvio padrão dos valores na coluna\n",
        "#@markdown * 25%: primeiro quartil (valor abaixo do qual estão 25% dos valores)\n",
        "#@markdown * 50%: segundo quartil, que é equivalente à mediana (valor abaixo do qual estão 50% dos valores)\n",
        "#@markdown * 75%: terceiro quartil (valor abaixo do qual estão 75% dos valores)\n",
        "#@markdown * max: valor máximo na coluna\n",
        "print('\u001b[1;32mAnalisando dados...')\n",
        "dados2.describe()\n",
        "\n",
        "\n"
      ],
      "metadata": {
        "cellView": "form",
        "id": "8RvSVg1zl3bj"
      },
      "execution_count": null,
      "outputs": []
    },
    {
      "cell_type": "markdown",
      "source": [
        "## 8/10 - Verificando correlação entre variáveis"
      ],
      "metadata": {
        "id": "NqrTozV7VAQP"
      }
    },
    {
      "cell_type": "code",
      "source": [
        "#@markdown ---\n",
        "#@markdown Rode a célula para verificar em um quadro com gráficos de dispersão se existe alguma correlação entre variáveis\n",
        "print('\u001b[1;32mProcessando dados...')\n",
        "import seaborn as sns\n",
        "import matplotlib.pyplot as plt\n",
        "sns.pairplot(dados2);\n",
        "\n",
        "print('\u001b[1;32mCriando gráficos...')"
      ],
      "metadata": {
        "cellView": "form",
        "id": "h-mKI5CzSVfs"
      },
      "execution_count": null,
      "outputs": []
    },
    {
      "cell_type": "markdown",
      "source": [
        "## 9/10 - Verificando Outliers"
      ],
      "metadata": {
        "id": "rwl8NLRgVIi3"
      }
    },
    {
      "cell_type": "code",
      "source": [
        "#@markdown ---\n",
        "#@markdown Informe o nome do atributo para criar um gráfico Boxplot e identificar possíveis outliers ( discrepâncias ):\n",
        "print('\u001b[1;32mCriando gráfico...')\n",
        "Nome_Atributo = \"ValorTelefone\" #@param {type:\"string\"}\n",
        "\n",
        "import plotly.express as px\n",
        "px.box ( dados2, y = Nome_Atributo)\n",
        "\n",
        "#@markdown Apropriado para atributos categóricos ordinais ( que tenham valores numéricos )\n"
      ],
      "metadata": {
        "cellView": "form",
        "id": "HDeB4Kl2BL92"
      },
      "execution_count": null,
      "outputs": []
    },
    {
      "cell_type": "code",
      "source": [
        "#@markdown # Corrigindo outliers\n",
        "#@markdown ---\n",
        "#@markdown ###* Informe o atributo para correção:\n",
        "Nome_Atributo = \"ValorTelefone\" #@param {type:\"string\"}\n",
        "\n",
        "#@markdown ###* Informe como tratar outliers:\n",
        "#@markdown * 1 - Exclua valores discrepantes baseados um uma condição\n",
        "#@markdown * 2 - Substitua valores discrepantes pela média baseado em uma condição\n",
        "#@markdown * 3 - Substitua valores discrepantes por um valor específico baseado em uma condição\n",
        "Tipo_correcao = \"2\" #@param [\"1\", \"2\", \"3\"]\n",
        "\n",
        "#@markdown ###* Informe agora qual a condição:\n",
        "#@markdown Corrija todos os valores que sejam:\n",
        "Tipo_condicao = \"maior_que\" #@param [\"igual_a\", \"maior_que\", \"menor_que\", \"diferente_de\"]\n",
        "Valor = 200 #@param {type:\"number\"}\n",
        "\n",
        "#@markdown ---\n",
        "#@markdown Se escolheu a opção 3 para substituir os valores discrepantes por um valor específico, informe o valor para qual deseja substituir:\n",
        "Valor_substituição = 0 #@param {type:\"number\"}\n",
        "\n",
        "if Tipo_correcao == 1:\n",
        "    # excluir os dados de um atributo baseado em uma condição\n",
        "    if Tipo_condicao == \"igual_a\":\n",
        "        dados2 = dados2.drop(dados2[dados2[Nome_Atributo] == Valor].index, inplace = True)\n",
        "    elif Tipo_condicao == \"maior_que\":\n",
        "        dados2 = dados2.drop(dados2[dados2[Nome_Atributo] > Valor].index, inplace = True)\n",
        "    elif Tipo_condicao == \"menor_que\":\n",
        "        dados2 = dados2.drop(dados2[dados2[Nome_Atributo] < Valor].index, inplace = True)\n",
        "    elif Tipo_condicao == \"diferente_de\":\n",
        "        dados2 = dados2.drop(dados2[dados2[Nome_Atributo] != Valor].index, inplace = True)\n",
        "elif Tipo_correcao == 2:\n",
        "    # substituir os dados de um atributo pela média baseado em uma condição\n",
        "    if Tipo_condicao == \"igual_a\":\n",
        "        dados2.loc[dados2[Nome_Atributo] == Valor, Nome_Atributo] = dados2[Nome_Atributo].mean()\n",
        "    elif Tipo_condicao == \"maior_que\":\n",
        "        dados2.loc[dados2[Nome_Atributo] > Valor, Nome_Atributo] = dados2[Nome_Atributo].mean()\n",
        "    elif Tipo_condicao == \"menor_que\":\n",
        "        dados2.loc[dados2[Nome_Atributo] < Valor, Nome_Atributo] = dados2[Nome_Atributo].mean()\n",
        "    elif Tipo_condicao == \"diferente_de\":\n",
        "        dados2.loc[dados2[Nome_Atributo] != Valor, Nome_Atributo] = dados2[Nome_Atributo].mean()\n",
        "else:\n",
        "    # substituir os dados de um atributo por um valor específico baseado em uma condição\n",
        "    if Tipo_condicao == \"igual_a\":\n",
        "        dados2.loc[dados2[Nome_Atributo] == Valor, Nome_Atributo] = Valor_substituição\n",
        "    elif Tipo_condicao == \"maior_que\":\n",
        "        dados2.loc[dados2[Nome_Atributo] > Valor, Nome_Atributo] = Valor_substituição\n",
        "    elif Tipo_condicao == \"menor_que\":\n",
        "        dados2.loc[dados2[Nome_Atributo] < Valor, Nome_Atributo] = Valor_substituição\n",
        "    elif Tipo_condicao == \"diferente_de\":\n",
        "        dados2.loc[dados2[Nome_Atributo] != Valor, Nome_Atributo] = Valor_substituição\n",
        "\n",
        "print('\u001b[1;32mDados corrigidos!')"
      ],
      "metadata": {
        "cellView": "form",
        "id": "ovR0rA4CF6Wb"
      },
      "execution_count": null,
      "outputs": []
    },
    {
      "cell_type": "markdown",
      "source": [
        "## 10/10 - Transformando variáveis categóricas NOMINAIS em variáveis categóricas ORDINAIS"
      ],
      "metadata": {
        "id": "rc94WNaSVTdX"
      }
    },
    {
      "cell_type": "code",
      "source": [
        "#@markdown ---\n",
        "#@markdown É extremamente importante assegurar que não existam dados nominais (string) no dataframe, pois os modelos de machine learning usados entendem apenas dados numéricos (int ou float)\n",
        "\n",
        "#@markdown Essa tranformação ocorre do seguinte modo:\n",
        "\n",
        "#@markdown Considere um atributo Sexo com 2 opções: Masculino e Feminino. \n",
        "\n",
        "#@markdown Realizando a transformação, os dados nominais \"Masculino\" e \"Feminino\" serão substituídos por dados ordinais 0 e 1. \n",
        "from sklearn.preprocessing import LabelEncoder\n",
        "# Criando uma lista com todos os atributos nominais\n",
        "nominais = [i for i, dtype in enumerate(dados2.dtypes) if dtype == object]\n",
        "# Usando LabelEncoder para transformar todos atributos nominais lista em ordinais \n",
        "for i in nominais:\n",
        "    dados2.iloc[:, i] = LabelEncoder().fit_transform(dados2.iloc[:, i])\n",
        "\n",
        "print('\u001b[1;32mDados alterados!')\n"
      ],
      "metadata": {
        "cellView": "form",
        "id": "Uihn4CWJiJrS"
      },
      "execution_count": null,
      "outputs": []
    }
  ]
}